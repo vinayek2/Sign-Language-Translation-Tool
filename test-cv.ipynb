{
 "cells": [
  {
   "cell_type": "code",
   "execution_count": null,
   "metadata": {},
   "outputs": [],
   "source": [
    "import pandas as pd"
   ]
  },
  {
   "cell_type": "code",
   "execution_count": 1,
   "metadata": {},
   "outputs": [
    {
     "name": "stdout",
     "output_type": "stream",
     "text": [
      "Defaulting to user installation because normal site-packages is not writeable\n",
      "Collecting opencv-python\n",
      "  Downloading opencv_python-4.10.0.84-cp37-abi3-win_amd64.whl.metadata (20 kB)\n",
      "Requirement already satisfied: numpy>=1.21.2 in c:\\users\\vinay\\appdata\\local\\packages\\pythonsoftwarefoundation.python.3.12_qbz5n2kfra8p0\\localcache\\local-packages\\python312\\site-packages (from opencv-python) (2.1.0)\n",
      "Downloading opencv_python-4.10.0.84-cp37-abi3-win_amd64.whl (38.8 MB)\n",
      "   ---------------------------------------- 0.0/38.8 MB ? eta -:--:--\n",
      "   --- ------------------------------------ 3.1/38.8 MB 15.3 MB/s eta 0:00:03\n",
      "   ------- -------------------------------- 7.3/38.8 MB 17.4 MB/s eta 0:00:02\n",
      "   ------------ --------------------------- 11.8/38.8 MB 18.5 MB/s eta 0:00:02\n",
      "   ----------------- ---------------------- 16.8/38.8 MB 18.9 MB/s eta 0:00:02\n",
      "   --------------------- ------------------ 20.7/38.8 MB 18.7 MB/s eta 0:00:01\n",
      "   ------------------------- -------------- 25.2/38.8 MB 19.2 MB/s eta 0:00:01\n",
      "   ----------------------------- ---------- 29.1/38.8 MB 19.0 MB/s eta 0:00:01\n",
      "   --------------------------------- ------ 32.5/38.8 MB 18.9 MB/s eta 0:00:01\n",
      "   ------------------------------------- -- 36.4/38.8 MB 18.8 MB/s eta 0:00:01\n",
      "   ---------------------------------------  38.8/38.8 MB 18.7 MB/s eta 0:00:01\n",
      "   ---------------------------------------- 38.8/38.8 MB 17.5 MB/s eta 0:00:00\n",
      "Installing collected packages: opencv-python\n",
      "Successfully installed opencv-python-4.10.0.84\n",
      "Note: you may need to restart the kernel to use updated packages.\n"
     ]
    }
   ],
   "source": [
    "pip install opencv-python"
   ]
  },
  {
   "cell_type": "code",
   "execution_count": 1,
   "metadata": {},
   "outputs": [
    {
     "name": "stdout",
     "output_type": "stream",
     "text": [
      "Height = 1200, Width = 1600\n"
     ]
    }
   ],
   "source": [
    "import cv2\n",
    "img = cv2.imread('image.JPG')\n",
    "h, w = img.shape[:2]\n",
    "print(f\"Height = {h}, Width = {w}\")"
   ]
  },
  {
   "cell_type": "code",
   "execution_count": 4,
   "metadata": {},
   "outputs": [],
   "source": [
    "cam = cv2.VideoCapture(0)\n",
    "#sets the def. height and width of camera\n",
    "frame_width = int(cam.get(cv2.CAP_PROP_FRAME_WIDTH))\n",
    "frame_height = int(cam.get(cv2.CAP_PROP_FRAME_HEIGHT))\n",
    "\n",
    "fourcc = cv2.VideoWriter_fourcc(*'mp4v')\n",
    "out = cv2.VideoWriter('output.mp4', fourcc, 20, (frame_width, frame_height))\n"
   ]
  },
  {
   "cell_type": "code",
   "execution_count": 5,
   "metadata": {},
   "outputs": [],
   "source": [
    "while True: \n",
    "    ret, frame = cam.read()\n",
    "    \n",
    "    out.write(frame)\n",
    "\n",
    "    cv2.imshow('Camaera', frame)\n",
    "\n",
    "    if cv2.waitKey(1) == ord('q'): \n",
    "        break\n",
    "\n",
    "cam.release()\n",
    "out.release()\n",
    "cv2.destroyAllWindows()"
   ]
  },
  {
   "cell_type": "code",
   "execution_count": null,
   "metadata": {},
   "outputs": [],
   "source": []
  }
 ],
 "metadata": {
  "kernelspec": {
   "display_name": "Python 3",
   "language": "python",
   "name": "python3"
  },
  "language_info": {
   "codemirror_mode": {
    "name": "ipython",
    "version": 3
   },
   "file_extension": ".py",
   "mimetype": "text/x-python",
   "name": "python",
   "nbconvert_exporter": "python",
   "pygments_lexer": "ipython3",
   "version": "3.12.8"
  }
 },
 "nbformat": 4,
 "nbformat_minor": 2
}
